{
  "cells": [
    {
      "cell_type": "markdown",
      "metadata": {
        "id": "kn4PNNsY-8m6"
      },
      "source": [
        "# 딥러닝 기초(첫째 마당)\n",
        "## 인공지능, 머신러닝, 딥러닝\n",
        "\n",
        "* 인공지능: 사람이 할 수 있는 일을 컴퓨터가 하게 만드는 것\n",
        "\n",
        "    * 머신러닝: 인공지능 중, 이전의 데이터를 이용해 미래 일을 예측하게 하는 기법\n",
        "\n",
        "        * 딥러닝: 머신러닝 알고리즘 중 가장 좋은 효과를 내는 것\n",
        "\n",
        "* 딥러닝을 위해 필요한 것\n",
        "\n",
        "    * 데이터\n",
        "\n",
        "        * 데이터에 딸린 이름표의 유무에 따라 딥러닝을 지도(CNN, RNN)/비지도(GAN, 오토인코더) 학습이라고 구분\n",
        "\n",
        "    * 컴퓨터\n",
        "\n",
        "        * CPU < GPU\n",
        "\n",
        "    * 프로그램\n",
        "\n",
        "## 미지의 일을 예측하는 원리\n",
        "\n",
        "> 예시. 수술 전 수술 후 생존율을 수치로 예측하는 방법? -> 그동안 집도한 수술 환자의 수술 전 상태와 수술 후 생존율을 정리해 놓은 데이터를 머신러닝 알고리즘에 입력\n",
        "\n",
        "* 학습: 데이터가 입력되고 패턴이 분석되는 과정\n",
        "\n",
        "    * 깨끗한 좌표 평면 위에 기존 환자들을 하나씩 배치하는 과정. 그  분포도 위에 수술 성공과 실패 여부를 구분짓는 경계를 그려넣고 저장해서 새 환자가 오면 이와 대조해 보고 수술 결과를 예측하는 것\n",
        "\n",
        "\n",
        "## 딥러닝 개괄\n",
        "\n",
        "* 간단한 모델 학습 구조\n",
        "\n",
        "    1. 환경 준비: 딥러닝 구동 위한 라이브러리 호출\n",
        "\n",
        "        1. 라이브러리: 특정 기능을 담은 작은 프로그램들을 모아 둔 것. 파이썬은 이게 풍부함\n",
        "    \n",
        "    ```python\n",
        "    from tensorflow.keras.models import Sequential\n",
        "    from tensorflow.keras.layers import Dense\n",
        "    import numpy as np\n",
        "    ```\n",
        "\n",
        "\n",
        "    2. 데이터 준비: 데이터를 불러와 사용 준비, 알고리즘이나 좋은 컴퓨터 환경만큼 중요한 것이 좋은 데이터를 준비하는 것\n",
        "\n",
        "        * 데이터를 면밀히 관찰할 것. 속성(attribute)과 클래스(class)로 데이터 항목을 나눌 수 있고, 클래스는 이름표.\n",
        "\n",
        "    \n",
        "    ```python\n",
        "    !git clone https://github.com/taehojo/data.git\n",
        "\n",
        "    Data_set = np.loadtxt(\"./data/ThoraricSurgery3.csv\", delimiter = \",\") # 파일명이 thoracic의 오타\n",
        "    X = Data_set[:,0:16]\n",
        "    y = Data_set[:,16]\n",
        "    ```\n",
        "\n",
        "    3. 구조 결정: 딥러닝 구조\n",
        "\n",
        "        * 텐서플로는 비행기, 케라스는 조종사\n",
        "\n",
        "        * 딥러닝 설계란? 몇 개의 층을 어떻게 쌓을지, Dense 외에 어떤 층을 사용할지, 내부 변수를 어떻게 정해야 하는지 등에 대한 고민. 이는 데이터의 종류와 설계의 목적에 따라 딥러닝 설계가 결정\n",
        "\n",
        "            * 각 설정과 의미를 알고 이것을 자유롭게 구성할 수 있는지가 딥러닝을 잘 다루는지 여부를 결정함\n",
        "    ```python\n",
        "    model = Sequential()\n",
        "    model.add(Dense(30, input_dim = 16, activation = 'relu'))\n",
        "    model.add(Dense(1, activation = 'sigmoid'))\n",
        "    ```\n",
        "    4. 모델 실행: 만들어 놓은 모델을 실행\n",
        "\n",
        "        * 딥러닝 기본 방식은 여러 층을 한 번만 통과하는 게 아니라 여러 차례 오가며 최적의 모델을 찾는 것. '오가는 횟수', '한 번 오갈 때 몇 개의 데이터를 사용할 것인지'를 정하는 함수가 .fit()\n",
        "\n",
        "    ```python\n",
        "    model.compile(loss='binary_crossentropy', optimizer='adam', metrics=['accuracy'])\n",
        "    history = model.fit(X, y, epochs=5, batch_size=16)\n",
        "    ```"
      ]
    },
    {
      "cell_type": "code",
      "execution_count": 1,
      "metadata": {
        "colab": {
          "base_uri": "https://localhost:8080/"
        },
        "id": "rEHOWE9l-8nC",
        "outputId": "3f5020a7-9db3-44be-97b9-5222849539a3"
      },
      "outputs": [
        {
          "output_type": "stream",
          "name": "stdout",
          "text": [
            "2.9.2\n"
          ]
        }
      ],
      "source": [
        "import tensorflow\n",
        "print(tensorflow.__version__)"
      ]
    },
    {
      "cell_type": "code",
      "execution_count": 2,
      "metadata": {
        "colab": {
          "base_uri": "https://localhost:8080/"
        },
        "id": "8_xrMcDC-8nD",
        "outputId": "0dee374b-e5c5-471e-f627-5ab089b59b72"
      },
      "outputs": [
        {
          "output_type": "stream",
          "name": "stdout",
          "text": [
            "Cloning into 'data'...\n",
            "remote: Enumerating objects: 21, done.\u001b[K\n",
            "remote: Counting objects: 100% (21/21), done.\u001b[K\n",
            "remote: Compressing objects: 100% (18/18), done.\u001b[K\n",
            "remote: Total 21 (delta 3), reused 20 (delta 2), pack-reused 0\u001b[K\n",
            "Unpacking objects: 100% (21/21), done.\n",
            "Epoch 1/5\n",
            "30/30 [==============================] - 1s 2ms/step - loss: 5.2828 - accuracy: 0.2149\n",
            "Epoch 2/5\n",
            "30/30 [==============================] - 0s 2ms/step - loss: 1.0716 - accuracy: 0.8234\n",
            "Epoch 3/5\n",
            "30/30 [==============================] - 0s 2ms/step - loss: 0.8784 - accuracy: 0.8191\n",
            "Epoch 4/5\n",
            "30/30 [==============================] - 0s 2ms/step - loss: 0.6664 - accuracy: 0.8213\n",
            "Epoch 5/5\n",
            "30/30 [==============================] - 0s 2ms/step - loss: 0.5232 - accuracy: 0.8277\n"
          ]
        }
      ],
      "source": [
        "from tensorflow.keras.models import Sequential\n",
        "from tensorflow.keras.layers import Dense\n",
        "import numpy as np\n",
        "\n",
        "!git clone https://github.com/taehojo/data.git\n",
        "\n",
        "Data_set = np.loadtxt(\"./data/ThoraricSurgery3.csv\", delimiter = \",\")\n",
        "X = Data_set[:,0:16]\n",
        "y = Data_set[:,16]\n",
        "\n",
        "model = Sequential()\n",
        "model.add(Dense(30, input_dim = 16, activation = 'relu'))\n",
        "model.add(Dense(1, activation = 'sigmoid'))\n",
        "\n",
        "model.compile(loss='binary_crossentropy', optimizer='adam', metrics=['accuracy'])\n",
        "history = model.fit(X, y, epochs=5, batch_size=16)"
      ]
    },
    {
      "cell_type": "markdown",
      "metadata": {
        "id": "slL1FIG3-8nE"
      },
      "source": [
        "# 예측 모델 기본 원리(둘째 마당)\n",
        "\n",
        "## 가장 훌륭한 예측선\n",
        "\n",
        "* 선형회귀\n",
        "\n",
        "> \"학생들의 중간고사 성적이 [ ]에 따라 다 다르다.\"\n",
        "\n",
        "* [ ]에 들어갈 '정보'를 독립 변수, 그에 따라 종속적으로 변하는 y를 종속 변수라고 함\n",
        "\n",
        "    * x가 하나인지, 두 개 이상인지에 따라 단순/다중 선형회귀로 나뉨\n",
        "\n",
        "* $y = ax + b$로 데이터에서 주어진 점들의 특징을 담은 직선을 표현하는 것. a, b의 최적값을 찾아내는 것이 선형 회귀\n",
        "\n",
        "    * 왜? 기존 데이터에 드러있지 않은 여러 내용을 유추할 수 있기에\n",
        "\n",
        "\n",
        "### 최소제곱법(method of least squares)\n",
        "\n",
        "$$a = ((x-x 평균)(y-y 평균)의 합)\\over(x-x 평균)^2의 합$$\n",
        "\n",
        "$$b = y 평균 - (x 평균 * a)\n"
      ]
    },
    {
      "cell_type": "code",
      "execution_count": 3,
      "metadata": {
        "colab": {
          "base_uri": "https://localhost:8080/"
        },
        "id": "QZ-Xcdj6-8nF",
        "outputId": "118b2d71-0ab5-4d4a-c000-a637a795fd10"
      },
      "outputs": [
        {
          "output_type": "stream",
          "name": "stdout",
          "text": [
            "x 평균:  5.0\n",
            "y 평균:  90.5\n",
            "분모:  20.0\n",
            "분자:  46.0\n",
            "기울기 a =  2.3\n",
            "y 절편 b =  79.0\n"
          ]
        }
      ],
      "source": [
        "import numpy as np\n",
        "x = np.array([2, 4, 6, 8]) # 공부한 시간\n",
        "y = np.array([81, 93, 91, 97]) # 점수\n",
        "\n",
        "mx = np.mean(x)\n",
        "my = np.mean(y)\n",
        "\n",
        "print(\"x 평균: \", mx)\n",
        "print(\"y 평균: \", my)\n",
        "\n",
        "divisor = sum([(i-mx)**2 for i in x])\n",
        "\n",
        "def numerator(x, mx, y, my):\n",
        "    n = 0\n",
        "    for i in range(len(x)):\n",
        "        n += (x[i] - mx) * (y[i] - my)\n",
        "    return n\n",
        "\n",
        "dividend = numerator(x, mx, y, my)\n",
        "\n",
        "print(\"분모: \", divisor)\n",
        "print(\"분자: \", dividend)\n",
        "\n",
        "a = dividend / divisor\n",
        "b = my - (mx * a) \n",
        "\n",
        "print(\"기울기 a = \", a)\n",
        "print(\"y 절편 b = \", b)"
      ]
    },
    {
      "cell_type": "markdown",
      "metadata": {
        "id": "gII3QR9T-8nF"
      },
      "source": [
        "### 평균 제곱 오차\n",
        "\n",
        "* 단순 선형 회귀 -> 최소 제곱법\n",
        "\n",
        "    * 하지만 다중일 경우? 최소 제곱법 이용 불가. '일단 그리고 조금씩 수정해 나가기 방식' 주로 이용\n",
        "\n",
        "    * 가설 설정 -> 이 값이 주어진 요건 충족? 이 답에 따라 조금씩 변화 주고, 변화가 긍정적이면 오차가 최소로 될 때까지 과정을 반복\n",
        "\n",
        "    * 나중에 그린 선을 이전 선에 비교해서 좋은지 나쁜지 판단하는 방법 -> 평균 제곱 오차(MSE)\n",
        "\n",
        " $$평균 제곱 오차(MSE) = \\frac{\\sum_(y_{i} - \\hat{y_{i}})^2}{n}$$\n"
      ]
    },
    {
      "cell_type": "code",
      "execution_count": null,
      "metadata": {
        "id": "6D0HSABZ-8nG"
      },
      "outputs": [],
      "source": [
        "import numpy as np \n",
        "\n",
        "fake_a = 3\n",
        "fake_b = 76\n",
        "\n",
        "x = np.array([2, 4, 6, 8])\n",
        "y = np.array([81, 93, 91, 97])\n",
        "\n",
        "def predict(x):\n",
        "    return fake_a * x + fake_b\n",
        "\n",
        "predict_result = []\n",
        "\n",
        "for i in range(len(x)):\n",
        "    predict_result.append(predict(x[i]))\n",
        "    print(\"공부시간=%.f, 실제점수=%.f, 예측점수=%.f\" % (x[i],y[i], predict(x[i])))\n",
        "\n",
        "n = len(x)\n",
        "def mse(y, y_pred):\n",
        "    return (1/n)*sum((y-y_pred)**2)\n",
        "\n",
        "print(\"평균 제곱 오차: \" + str(mse(y, predict_result)))"
      ]
    }
  ],
  "metadata": {
    "kernelspec": {
      "display_name": "Python 3.9.12 ('base')",
      "language": "python",
      "name": "python3"
    },
    "language_info": {
      "codemirror_mode": {
        "name": "ipython",
        "version": 3
      },
      "file_extension": ".py",
      "mimetype": "text/x-python",
      "name": "python",
      "nbconvert_exporter": "python",
      "pygments_lexer": "ipython3",
      "version": "3.9.12"
    },
    "orig_nbformat": 4,
    "vscode": {
      "interpreter": {
        "hash": "26d52c8fd1397cdef41ccba82279b2d088d2fd66dfc2762d5913fadff575f43d"
      }
    },
    "colab": {
      "provenance": []
    }
  },
  "nbformat": 4,
  "nbformat_minor": 0
}