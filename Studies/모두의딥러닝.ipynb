{
 "cells": [
  {
   "cell_type": "markdown",
   "metadata": {},
   "source": [
    "# 딥러닝 기초(첫째 마당)\n",
    "## 인공지능, 머신러닝, 딥러닝\n",
    "\n",
    "* 인공지능: 사람이 할 수 있는 일을 컴퓨터가 하게 만드는 것\n",
    "\n",
    "    * 머신러닝: 인공지능 중, 이전의 데이터를 이용해 미래 일을 예측하게 하는 기법\n",
    "\n",
    "        * 딥러닝: 머신러닝 알고리즘 중 가장 좋은 효과를 내는 것\n",
    "\n",
    "* 딥러닝을 위해 필요한 것\n",
    "\n",
    "    * 데이터\n",
    "\n",
    "        * 데이터에 딸린 이름표의 유무에 따라 딥러닝을 지도(CNN, RNN)/비지도(GAN, 오토인코더) 학습이라고 구분\n",
    "\n",
    "    * 컴퓨터\n",
    "\n",
    "        * CPU < GPU\n",
    "\n",
    "    * 프로그램\n",
    "\n",
    "## 미지의 일을 예측하는 원리\n",
    "\n",
    "\" 예시. 수술 전 수술 후 생존율을 수치로 예측하는 방법? -> 그동안 집도한 수술 환자의 수술 전 상태와 수술 후 생존율을 정리해 놓은 데이터를 머신러닝 알고리즘에 입력\n",
    "\n",
    "* 학습: 데이터가 입력되고 패턴이 분석되는 과정\n",
    "\n",
    "    * 깨끗한 좌표 평면 위에 기존 환자들을 하나씩 배치하는 과정. 그  분포도 위에 수술 성공과 실패 여부를 구분짓는 경계를 그려넣고 저장해서 새 환자가 오면 이와 대조해 보고 수술 결과를 예측하는 것\n",
    "\n",
    "\n",
    "## 딥러닝 개괄\n",
    "\n",
    "* 간단한 모델 학습 구조\n",
    "\n",
    "    1. 환경 준비: 딥러닝 구동 위한 라이브러리 호출\n",
    "\n",
    "        1. 라이브러리: 특정 기능을 담은 작은 프로그램들을 모아 둔 것. 파이썬은 이게 풍부함\n",
    "    \n",
    "    ```python\n",
    "    from tensorflow.keras.models import Sequential\n",
    "    from tensorflow.keras.layers import Dense\n",
    "    import numpy as np\n",
    "    ```\n",
    "\n",
    "\n",
    "    2. 데이터 준비: 데이터를 불러와 사용 준비, 알고리즘이나 좋은 컴퓨터 환경만큼 중요한 것이 좋은 데이터를 준비하는 것\n",
    "\n",
    "        * 데이터를 면밀히 관찰할 것. 속성(attribute)과 클래스(class)로 데이터 항목을 나눌 수 있고, 클래스는 이름표.\n",
    "\n",
    "    \n",
    "    ```python\n",
    "    !git clone https://github.com/taehojo/data.git\n",
    "\n",
    "    Data_set = np.loadtxt(\"./data/ThoraricSurgery3.csv\", delimiter = \",\") # 파일명이 thoracic의 오타\n",
    "    X = Data_set[:,0:16]\n",
    "    y = Data_set[:,16]\n",
    "    ```\n",
    "\n",
    "    3. 구조 결정: 딥러닝 구조\n",
    "\n",
    "        * 텐서플로는 비행기, 케라스는 조종사\n",
    "\n",
    "        * 딥러닝 설계란? 몇 개의 층을 어떻게 쌓을지, Dense 외에 어떤 층을 사용할지, 내부 변수를 어떻게 정해야 하는지 등에 대한 고민. 이는 데이터의 종류와 설계의 목적에 따라 딥러닝 설계가 결정\n",
    "\n",
    "            * 각 설정과 의미를 알고 이것을 자유롭게 구성할 수 있는지가 딥러닝을 잘 다루는지 여부를 결정함\n",
    "    ```python\n",
    "    model = Sequential()\n",
    "    model.add(Dense(30, input_dim = 16, activation = 'relu'))\n",
    "    model.add(Dense(1, activation = 'sigmoid'))\n",
    "    ```\n",
    "    4. 모델 실행: 만들어 놓은 모델을 실행\n",
    "\n",
    "        * 딥러닝 기본 방식은 여러 층을 한 번만 통과하는 게 아니라 여러 차례 오가며 최적의 모델을 찾는 것. '오가는 횟수', '한 번 오갈 때 몇 개의 데이터를 사용할 것인지'를 정하는 함수가 .fit()\n",
    "\n",
    "    ```python\n",
    "    model.compile(loss='binary_crossentropy', optimizer='adam', metrics=['accuracy'])\n",
    "    history = model.fit(X, y, epochs=5, batch_size=16)\n",
    "    ```"
   ]
  },
  {
   "cell_type": "code",
   "execution_count": null,
   "metadata": {},
   "outputs": [],
   "source": [
    "from tensorflow.keras.models import Sequential\n",
    "from tensorflow.keras.layers import Dense\n",
    "import numpy as np\n",
    "\n",
    "!git clone https://github.com/taehojo/data.git\n",
    "\n",
    "Data_set = np.loadtxt(\"./data/ThoraricSurgery3.csv\", delimiter = \",\")\n",
    "X = Data_set[:,0:16]\n",
    "y = Data_set[:,16]\n",
    "  \n",
    "model = Sequential()\n",
    "model.add(Dense(30, input_dim = 16, activation = 'relu'))\n",
    "model.add(Dense(1, activation = 'sigmoid'))\n",
    "\n",
    "model.compile(loss='binary_crossentropy', optimizer='adam', metrics=['accuracy'])\n",
    "history = model.fit(X, y, epochs=5, batch_size=16)"
   ]
  },
  {
   "cell_type": "markdown",
   "metadata": {},
   "source": [
    "# 예측 모델 기본 원리(둘째 마당)\n",
    "\n"
   ]
  }
 ],
 "metadata": {
  "kernelspec": {
   "display_name": "Python 3.9.12 ('base')",
   "language": "python",
   "name": "python3"
  },
  "language_info": {
   "name": "python",
   "version": "3.9.12"
  },
  "orig_nbformat": 4,
  "vscode": {
   "interpreter": {
    "hash": "26d52c8fd1397cdef41ccba82279b2d088d2fd66dfc2762d5913fadff575f43d"
   }
  }
 },
 "nbformat": 4,
 "nbformat_minor": 2
}
